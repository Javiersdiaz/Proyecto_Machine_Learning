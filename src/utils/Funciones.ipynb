{
 "cells": [
  {
   "cell_type": "code",
   "execution_count": 1,
   "metadata": {},
   "outputs": [
    {
     "ename": "NameError",
     "evalue": "name 'df' is not defined",
     "output_type": "error",
     "traceback": [
      "\u001b[1;31m---------------------------------------------------------------------------\u001b[0m",
      "\u001b[1;31mNameError\u001b[0m                                 Traceback (most recent call last)",
      "Cell \u001b[1;32mIn[1], line 52\u001b[0m\n\u001b[0;32m     49\u001b[0m     plot_outliers(df)\n\u001b[0;32m     51\u001b[0m \u001b[38;5;66;03m# Ejecutar el EDA\u001b[39;00m\n\u001b[1;32m---> 52\u001b[0m df\u001b[38;5;241m.\u001b[39mindex \u001b[38;5;241m=\u001b[39m pd\u001b[38;5;241m.\u001b[39mto_datetime(\u001b[43mdf\u001b[49m\u001b[38;5;241m.\u001b[39mindex)  \u001b[38;5;66;03m# Asegurar que el índice es datetime\u001b[39;00m\n\u001b[0;32m     53\u001b[0m realizar_eda(df)\n",
      "\u001b[1;31mNameError\u001b[0m: name 'df' is not defined"
     ]
    }
   ],
   "source": [
    "import pandas as pd\n",
    "import numpy as np\n",
    "import matplotlib.pyplot as plt\n",
    "import seaborn as sns\n",
    "\n",
    "# Resumen general\n",
    "def eda_general(df):\n",
    "    print(\"\\n--- Información General ---\")\n",
    "    print(df.info())\n",
    "    print(\"\\n--- Estadísticas Descriptivas ---\")\n",
    "    print(df.describe().T)\n",
    "    print(\"\\n--- Valores Nulos ---\")\n",
    "    print(df.isnull().sum())\n",
    "    print(\"\\n--- Valores Duplicados ---\")\n",
    "    print(df.duplicated().sum())\n",
    "\n",
    "# Visualización de distribuciones\n",
    "def plot_distributions(df):\n",
    "    df.hist(figsize=(12, 8), bins=30, edgecolor='k')\n",
    "    plt.suptitle(\"Distribuciones de las Variables\", fontsize=16)\n",
    "    plt.show()\n",
    "\n",
    "# Heatmap de correlación\n",
    "def plot_correlation(df):\n",
    "    plt.figure(figsize=(10, 6))\n",
    "    sns.heatmap(df.corr(), annot=True, cmap='coolwarm', fmt='.2f', linewidths=0.5)\n",
    "    plt.title(\"Mapa de Correlación\")\n",
    "    plt.show()\n",
    "\n",
    "# Análisis de tendencias temporales\n",
    "def plot_time_series(df):\n",
    "    df.plot(subplots=True, figsize=(12, 8), title=\"Series Temporales\")\n",
    "    plt.show()\n",
    "\n",
    "# Outliers con boxplots\n",
    "def plot_outliers(df):\n",
    "    plt.figure(figsize=(12, 6))\n",
    "    df.boxplot()\n",
    "    plt.title(\"Boxplots para detectar Outliers\")\n",
    "    plt.xticks(rotation=90)\n",
    "    plt.show()\n",
    "\n",
    "# Función principal para ejecutar el EDA\n",
    "def realizar_eda(df):\n",
    "    eda_general(df)\n",
    "    plot_distributions(df)\n",
    "    plot_correlation(df)\n",
    "    plot_time_series(df)\n",
    "    plot_outliers(df)\n",
    "\n",
    "# Ejecutar el EDA\n",
    "df.index = pd.to_datetime(df.index)  # Asegurar que el índice es datetime\n",
    "realizar_eda(df)"
   ]
  }
 ],
 "metadata": {
  "kernelspec": {
   "display_name": "Python 3",
   "language": "python",
   "name": "python3"
  },
  "language_info": {
   "codemirror_mode": {
    "name": "ipython",
    "version": 3
   },
   "file_extension": ".py",
   "mimetype": "text/x-python",
   "name": "python",
   "nbconvert_exporter": "python",
   "pygments_lexer": "ipython3",
   "version": "3.10.11"
  }
 },
 "nbformat": 4,
 "nbformat_minor": 2
}
